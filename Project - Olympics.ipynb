{
 "cells": [
  {
   "cell_type": "markdown",
   "id": "0ed5cabf",
   "metadata": {},
   "source": [
    "# Data Cleaning and Statistics"
   ]
  },
  {
   "cell_type": "code",
   "execution_count": 1,
   "id": "088b8ce7",
   "metadata": {},
   "outputs": [],
   "source": [
    "import pandas as pd \n",
    "import matplotlib.pyplot as plt"
   ]
  },
  {
   "cell_type": "code",
   "execution_count": 2,
   "id": "26bccfe9",
   "metadata": {},
   "outputs": [],
   "source": [
    "df = pd.read_csv(r\"C:\\Users\\Abhishek\\Downloads\\Olympics.csv\")"
   ]
  },
  {
   "cell_type": "code",
   "execution_count": 3,
   "id": "4e352829",
   "metadata": {},
   "outputs": [
    {
     "data": {
      "text/html": [
       "<div>\n",
       "<style scoped>\n",
       "    .dataframe tbody tr th:only-of-type {\n",
       "        vertical-align: middle;\n",
       "    }\n",
       "\n",
       "    .dataframe tbody tr th {\n",
       "        vertical-align: top;\n",
       "    }\n",
       "\n",
       "    .dataframe thead th {\n",
       "        text-align: right;\n",
       "    }\n",
       "</style>\n",
       "<table border=\"1\" class=\"dataframe\">\n",
       "  <thead>\n",
       "    <tr style=\"text-align: right;\">\n",
       "      <th></th>\n",
       "      <th>Name</th>\n",
       "      <th>Sex</th>\n",
       "      <th>Age</th>\n",
       "      <th>Height</th>\n",
       "      <th>Weight</th>\n",
       "      <th>Team</th>\n",
       "      <th>Year</th>\n",
       "      <th>Season</th>\n",
       "      <th>Host_City</th>\n",
       "      <th>Host_Country</th>\n",
       "      <th>Sport</th>\n",
       "      <th>Event</th>\n",
       "      <th>GDP_Per_Capita_Constant_LCU_Value</th>\n",
       "      <th>Representing_Host</th>\n",
       "      <th>Avg_Temp</th>\n",
       "      <th>Medal</th>\n",
       "    </tr>\n",
       "  </thead>\n",
       "  <tbody>\n",
       "    <tr>\n",
       "      <th>0</th>\n",
       "      <td>Andreea Aanei</td>\n",
       "      <td>F</td>\n",
       "      <td>22.0</td>\n",
       "      <td>170.0</td>\n",
       "      <td>125.0</td>\n",
       "      <td>Romania</td>\n",
       "      <td>2016</td>\n",
       "      <td>Summer</td>\n",
       "      <td>Rio de Janeiro</td>\n",
       "      <td>Brazil</td>\n",
       "      <td>Weightlifting</td>\n",
       "      <td>Weightlifting Women's Super-Heavyweight</td>\n",
       "      <td>20450.34567</td>\n",
       "      <td>0</td>\n",
       "      <td>8.8</td>\n",
       "      <td>0</td>\n",
       "    </tr>\n",
       "    <tr>\n",
       "      <th>1</th>\n",
       "      <td>Nstor Abad Sanjun</td>\n",
       "      <td>M</td>\n",
       "      <td>23.0</td>\n",
       "      <td>167.0</td>\n",
       "      <td>64.0</td>\n",
       "      <td>Spain</td>\n",
       "      <td>2016</td>\n",
       "      <td>Summer</td>\n",
       "      <td>Rio de Janeiro</td>\n",
       "      <td>Brazil</td>\n",
       "      <td>Gymnastics</td>\n",
       "      <td>Gymnastics Men's Individual All-Around</td>\n",
       "      <td>23788.15345</td>\n",
       "      <td>0</td>\n",
       "      <td>13.3</td>\n",
       "      <td>0</td>\n",
       "    </tr>\n",
       "    <tr>\n",
       "      <th>2</th>\n",
       "      <td>Nstor Abad Sanjun</td>\n",
       "      <td>M</td>\n",
       "      <td>23.0</td>\n",
       "      <td>167.0</td>\n",
       "      <td>64.0</td>\n",
       "      <td>Spain</td>\n",
       "      <td>2016</td>\n",
       "      <td>Summer</td>\n",
       "      <td>Rio de Janeiro</td>\n",
       "      <td>Brazil</td>\n",
       "      <td>Gymnastics</td>\n",
       "      <td>Gymnastics Men's Floor Exercise</td>\n",
       "      <td>23788.15345</td>\n",
       "      <td>0</td>\n",
       "      <td>13.3</td>\n",
       "      <td>0</td>\n",
       "    </tr>\n",
       "    <tr>\n",
       "      <th>3</th>\n",
       "      <td>Nstor Abad Sanjun</td>\n",
       "      <td>M</td>\n",
       "      <td>23.0</td>\n",
       "      <td>167.0</td>\n",
       "      <td>64.0</td>\n",
       "      <td>Spain</td>\n",
       "      <td>2016</td>\n",
       "      <td>Summer</td>\n",
       "      <td>Rio de Janeiro</td>\n",
       "      <td>Brazil</td>\n",
       "      <td>Gymnastics</td>\n",
       "      <td>Gymnastics Men's Parallel Bars</td>\n",
       "      <td>23788.15345</td>\n",
       "      <td>0</td>\n",
       "      <td>13.3</td>\n",
       "      <td>0</td>\n",
       "    </tr>\n",
       "    <tr>\n",
       "      <th>4</th>\n",
       "      <td>Nstor Abad Sanjun</td>\n",
       "      <td>M</td>\n",
       "      <td>23.0</td>\n",
       "      <td>167.0</td>\n",
       "      <td>64.0</td>\n",
       "      <td>Spain</td>\n",
       "      <td>2016</td>\n",
       "      <td>Summer</td>\n",
       "      <td>Rio de Janeiro</td>\n",
       "      <td>Brazil</td>\n",
       "      <td>Gymnastics</td>\n",
       "      <td>Gymnastics Men's Horizontal Bar</td>\n",
       "      <td>23788.15345</td>\n",
       "      <td>0</td>\n",
       "      <td>13.3</td>\n",
       "      <td>0</td>\n",
       "    </tr>\n",
       "  </tbody>\n",
       "</table>\n",
       "</div>"
      ],
      "text/plain": [
       "                Name Sex   Age  Height  Weight     Team  Year  Season  \\\n",
       "0      Andreea Aanei   F  22.0   170.0   125.0  Romania  2016  Summer   \n",
       "1  Nstor Abad Sanjun   M  23.0   167.0    64.0    Spain  2016  Summer   \n",
       "2  Nstor Abad Sanjun   M  23.0   167.0    64.0    Spain  2016  Summer   \n",
       "3  Nstor Abad Sanjun   M  23.0   167.0    64.0    Spain  2016  Summer   \n",
       "4  Nstor Abad Sanjun   M  23.0   167.0    64.0    Spain  2016  Summer   \n",
       "\n",
       "        Host_City Host_Country          Sport  \\\n",
       "0  Rio de Janeiro       Brazil  Weightlifting   \n",
       "1  Rio de Janeiro       Brazil     Gymnastics   \n",
       "2  Rio de Janeiro       Brazil     Gymnastics   \n",
       "3  Rio de Janeiro       Brazil     Gymnastics   \n",
       "4  Rio de Janeiro       Brazil     Gymnastics   \n",
       "\n",
       "                                     Event  GDP_Per_Capita_Constant_LCU_Value  \\\n",
       "0  Weightlifting Women's Super-Heavyweight                        20450.34567   \n",
       "1   Gymnastics Men's Individual All-Around                        23788.15345   \n",
       "2          Gymnastics Men's Floor Exercise                        23788.15345   \n",
       "3           Gymnastics Men's Parallel Bars                        23788.15345   \n",
       "4          Gymnastics Men's Horizontal Bar                        23788.15345   \n",
       "\n",
       "   Representing_Host Avg_Temp  Medal  \n",
       "0                  0      8.8      0  \n",
       "1                  0     13.3      0  \n",
       "2                  0     13.3      0  \n",
       "3                  0     13.3      0  \n",
       "4                  0     13.3      0  "
      ]
     },
     "execution_count": 3,
     "metadata": {},
     "output_type": "execute_result"
    }
   ],
   "source": [
    "df.head()"
   ]
  },
  {
   "cell_type": "code",
   "execution_count": 4,
   "id": "568b9a5b",
   "metadata": {},
   "outputs": [
    {
     "data": {
      "text/html": [
       "<div>\n",
       "<style scoped>\n",
       "    .dataframe tbody tr th:only-of-type {\n",
       "        vertical-align: middle;\n",
       "    }\n",
       "\n",
       "    .dataframe tbody tr th {\n",
       "        vertical-align: top;\n",
       "    }\n",
       "\n",
       "    .dataframe thead th {\n",
       "        text-align: right;\n",
       "    }\n",
       "</style>\n",
       "<table border=\"1\" class=\"dataframe\">\n",
       "  <thead>\n",
       "    <tr style=\"text-align: right;\">\n",
       "      <th></th>\n",
       "      <th>Age</th>\n",
       "      <th>Height</th>\n",
       "      <th>Weight</th>\n",
       "      <th>Year</th>\n",
       "      <th>GDP_Per_Capita_Constant_LCU_Value</th>\n",
       "      <th>Representing_Host</th>\n",
       "      <th>Medal</th>\n",
       "    </tr>\n",
       "  </thead>\n",
       "  <tbody>\n",
       "    <tr>\n",
       "      <th>count</th>\n",
       "      <td>202616.000000</td>\n",
       "      <td>202615.000000</td>\n",
       "      <td>202615.000000</td>\n",
       "      <td>202616.000000</td>\n",
       "      <td>2.026160e+05</td>\n",
       "      <td>202616.000000</td>\n",
       "      <td>202616.000000</td>\n",
       "    </tr>\n",
       "    <tr>\n",
       "      <th>mean</th>\n",
       "      <td>24.966480</td>\n",
       "      <td>175.298414</td>\n",
       "      <td>70.576962</td>\n",
       "      <td>1992.252626</td>\n",
       "      <td>1.016396e+06</td>\n",
       "      <td>0.057977</td>\n",
       "      <td>0.268345</td>\n",
       "    </tr>\n",
       "    <tr>\n",
       "      <th>std</th>\n",
       "      <td>5.472054</td>\n",
       "      <td>10.483912</td>\n",
       "      <td>14.263095</td>\n",
       "      <td>16.518691</td>\n",
       "      <td>5.839650e+06</td>\n",
       "      <td>0.233700</td>\n",
       "      <td>0.743768</td>\n",
       "    </tr>\n",
       "    <tr>\n",
       "      <th>min</th>\n",
       "      <td>11.000000</td>\n",
       "      <td>127.000000</td>\n",
       "      <td>25.000000</td>\n",
       "      <td>1960.000000</td>\n",
       "      <td>2.321763e+02</td>\n",
       "      <td>0.000000</td>\n",
       "      <td>0.000000</td>\n",
       "    </tr>\n",
       "    <tr>\n",
       "      <th>25%</th>\n",
       "      <td>21.000000</td>\n",
       "      <td>168.000000</td>\n",
       "      <td>60.000000</td>\n",
       "      <td>1980.000000</td>\n",
       "      <td>1.671118e+04</td>\n",
       "      <td>0.000000</td>\n",
       "      <td>0.000000</td>\n",
       "    </tr>\n",
       "    <tr>\n",
       "      <th>50%</th>\n",
       "      <td>24.000000</td>\n",
       "      <td>175.000000</td>\n",
       "      <td>70.000000</td>\n",
       "      <td>1996.000000</td>\n",
       "      <td>3.046682e+04</td>\n",
       "      <td>0.000000</td>\n",
       "      <td>0.000000</td>\n",
       "    </tr>\n",
       "    <tr>\n",
       "      <th>75%</th>\n",
       "      <td>28.000000</td>\n",
       "      <td>182.000000</td>\n",
       "      <td>79.000000</td>\n",
       "      <td>2006.000000</td>\n",
       "      <td>1.329136e+05</td>\n",
       "      <td>0.000000</td>\n",
       "      <td>0.000000</td>\n",
       "    </tr>\n",
       "    <tr>\n",
       "      <th>max</th>\n",
       "      <td>71.000000</td>\n",
       "      <td>226.000000</td>\n",
       "      <td>214.000000</td>\n",
       "      <td>2016.000000</td>\n",
       "      <td>1.313372e+08</td>\n",
       "      <td>1.000000</td>\n",
       "      <td>3.000000</td>\n",
       "    </tr>\n",
       "  </tbody>\n",
       "</table>\n",
       "</div>"
      ],
      "text/plain": [
       "                 Age         Height         Weight           Year  \\\n",
       "count  202616.000000  202615.000000  202615.000000  202616.000000   \n",
       "mean       24.966480     175.298414      70.576962    1992.252626   \n",
       "std         5.472054      10.483912      14.263095      16.518691   \n",
       "min        11.000000     127.000000      25.000000    1960.000000   \n",
       "25%        21.000000     168.000000      60.000000    1980.000000   \n",
       "50%        24.000000     175.000000      70.000000    1996.000000   \n",
       "75%        28.000000     182.000000      79.000000    2006.000000   \n",
       "max        71.000000     226.000000     214.000000    2016.000000   \n",
       "\n",
       "       GDP_Per_Capita_Constant_LCU_Value  Representing_Host          Medal  \n",
       "count                       2.026160e+05      202616.000000  202616.000000  \n",
       "mean                        1.016396e+06           0.057977       0.268345  \n",
       "std                         5.839650e+06           0.233700       0.743768  \n",
       "min                         2.321763e+02           0.000000       0.000000  \n",
       "25%                         1.671118e+04           0.000000       0.000000  \n",
       "50%                         3.046682e+04           0.000000       0.000000  \n",
       "75%                         1.329136e+05           0.000000       0.000000  \n",
       "max                         1.313372e+08           1.000000       3.000000  "
      ]
     },
     "execution_count": 4,
     "metadata": {},
     "output_type": "execute_result"
    }
   ],
   "source": [
    "df.describe()"
   ]
  },
  {
   "cell_type": "code",
   "execution_count": 5,
   "id": "18c08f8e",
   "metadata": {},
   "outputs": [
    {
     "data": {
      "text/plain": [
       "Name                                 0\n",
       "Sex                                  0\n",
       "Age                                  0\n",
       "Height                               1\n",
       "Weight                               1\n",
       "Team                                 0\n",
       "Year                                 0\n",
       "Season                               0\n",
       "Host_City                            0\n",
       "Host_Country                         0\n",
       "Sport                                0\n",
       "Event                                0\n",
       "GDP_Per_Capita_Constant_LCU_Value    0\n",
       "Representing_Host                    0\n",
       "Avg_Temp                             0\n",
       "Medal                                0\n",
       "dtype: int64"
      ]
     },
     "execution_count": 5,
     "metadata": {},
     "output_type": "execute_result"
    }
   ],
   "source": [
    "df.isnull().sum()"
   ]
  },
  {
   "cell_type": "code",
   "execution_count": 6,
   "id": "28a859cb",
   "metadata": {},
   "outputs": [
    {
     "data": {
      "text/plain": [
       "0"
      ]
     },
     "execution_count": 6,
     "metadata": {},
     "output_type": "execute_result"
    }
   ],
   "source": [
    "df.duplicated().sum()"
   ]
  },
  {
   "cell_type": "code",
   "execution_count": 7,
   "id": "930179d1",
   "metadata": {},
   "outputs": [],
   "source": [
    "df=df.fillna(0)"
   ]
  },
  {
   "cell_type": "code",
   "execution_count": 8,
   "id": "b4678416",
   "metadata": {},
   "outputs": [
    {
     "data": {
      "text/plain": [
       "Name                                 0\n",
       "Sex                                  0\n",
       "Age                                  0\n",
       "Height                               0\n",
       "Weight                               0\n",
       "Team                                 0\n",
       "Year                                 0\n",
       "Season                               0\n",
       "Host_City                            0\n",
       "Host_Country                         0\n",
       "Sport                                0\n",
       "Event                                0\n",
       "GDP_Per_Capita_Constant_LCU_Value    0\n",
       "Representing_Host                    0\n",
       "Avg_Temp                             0\n",
       "Medal                                0\n",
       "dtype: int64"
      ]
     },
     "execution_count": 8,
     "metadata": {},
     "output_type": "execute_result"
    }
   ],
   "source": [
    "df.isnull().sum()"
   ]
  },
  {
   "cell_type": "code",
   "execution_count": 9,
   "id": "c8e145a6",
   "metadata": {},
   "outputs": [
    {
     "data": {
      "text/html": [
       "<div>\n",
       "<style scoped>\n",
       "    .dataframe tbody tr th:only-of-type {\n",
       "        vertical-align: middle;\n",
       "    }\n",
       "\n",
       "    .dataframe tbody tr th {\n",
       "        vertical-align: top;\n",
       "    }\n",
       "\n",
       "    .dataframe thead th {\n",
       "        text-align: right;\n",
       "    }\n",
       "</style>\n",
       "<table border=\"1\" class=\"dataframe\">\n",
       "  <thead>\n",
       "    <tr style=\"text-align: right;\">\n",
       "      <th></th>\n",
       "      <th>Age</th>\n",
       "      <th>Height</th>\n",
       "      <th>Weight</th>\n",
       "      <th>Year</th>\n",
       "      <th>GDP_Per_Capita_Constant_LCU_Value</th>\n",
       "      <th>Representing_Host</th>\n",
       "      <th>Medal</th>\n",
       "    </tr>\n",
       "  </thead>\n",
       "  <tbody>\n",
       "    <tr>\n",
       "      <th>count</th>\n",
       "      <td>202616.000000</td>\n",
       "      <td>202616.000000</td>\n",
       "      <td>202616.000000</td>\n",
       "      <td>202616.000000</td>\n",
       "      <td>2.026160e+05</td>\n",
       "      <td>202616.000000</td>\n",
       "      <td>202616.000000</td>\n",
       "    </tr>\n",
       "    <tr>\n",
       "      <th>mean</th>\n",
       "      <td>24.966480</td>\n",
       "      <td>175.297549</td>\n",
       "      <td>70.576614</td>\n",
       "      <td>1992.252626</td>\n",
       "      <td>1.016396e+06</td>\n",
       "      <td>0.057977</td>\n",
       "      <td>0.268345</td>\n",
       "    </tr>\n",
       "    <tr>\n",
       "      <th>std</th>\n",
       "      <td>5.472054</td>\n",
       "      <td>10.491117</td>\n",
       "      <td>14.263922</td>\n",
       "      <td>16.518691</td>\n",
       "      <td>5.839650e+06</td>\n",
       "      <td>0.233700</td>\n",
       "      <td>0.743768</td>\n",
       "    </tr>\n",
       "    <tr>\n",
       "      <th>min</th>\n",
       "      <td>11.000000</td>\n",
       "      <td>0.000000</td>\n",
       "      <td>0.000000</td>\n",
       "      <td>1960.000000</td>\n",
       "      <td>2.321763e+02</td>\n",
       "      <td>0.000000</td>\n",
       "      <td>0.000000</td>\n",
       "    </tr>\n",
       "    <tr>\n",
       "      <th>25%</th>\n",
       "      <td>21.000000</td>\n",
       "      <td>168.000000</td>\n",
       "      <td>60.000000</td>\n",
       "      <td>1980.000000</td>\n",
       "      <td>1.671118e+04</td>\n",
       "      <td>0.000000</td>\n",
       "      <td>0.000000</td>\n",
       "    </tr>\n",
       "    <tr>\n",
       "      <th>50%</th>\n",
       "      <td>24.000000</td>\n",
       "      <td>175.000000</td>\n",
       "      <td>70.000000</td>\n",
       "      <td>1996.000000</td>\n",
       "      <td>3.046682e+04</td>\n",
       "      <td>0.000000</td>\n",
       "      <td>0.000000</td>\n",
       "    </tr>\n",
       "    <tr>\n",
       "      <th>75%</th>\n",
       "      <td>28.000000</td>\n",
       "      <td>182.000000</td>\n",
       "      <td>79.000000</td>\n",
       "      <td>2006.000000</td>\n",
       "      <td>1.329136e+05</td>\n",
       "      <td>0.000000</td>\n",
       "      <td>0.000000</td>\n",
       "    </tr>\n",
       "    <tr>\n",
       "      <th>max</th>\n",
       "      <td>71.000000</td>\n",
       "      <td>226.000000</td>\n",
       "      <td>214.000000</td>\n",
       "      <td>2016.000000</td>\n",
       "      <td>1.313372e+08</td>\n",
       "      <td>1.000000</td>\n",
       "      <td>3.000000</td>\n",
       "    </tr>\n",
       "  </tbody>\n",
       "</table>\n",
       "</div>"
      ],
      "text/plain": [
       "                 Age         Height         Weight           Year  \\\n",
       "count  202616.000000  202616.000000  202616.000000  202616.000000   \n",
       "mean       24.966480     175.297549      70.576614    1992.252626   \n",
       "std         5.472054      10.491117      14.263922      16.518691   \n",
       "min        11.000000       0.000000       0.000000    1960.000000   \n",
       "25%        21.000000     168.000000      60.000000    1980.000000   \n",
       "50%        24.000000     175.000000      70.000000    1996.000000   \n",
       "75%        28.000000     182.000000      79.000000    2006.000000   \n",
       "max        71.000000     226.000000     214.000000    2016.000000   \n",
       "\n",
       "       GDP_Per_Capita_Constant_LCU_Value  Representing_Host          Medal  \n",
       "count                       2.026160e+05      202616.000000  202616.000000  \n",
       "mean                        1.016396e+06           0.057977       0.268345  \n",
       "std                         5.839650e+06           0.233700       0.743768  \n",
       "min                         2.321763e+02           0.000000       0.000000  \n",
       "25%                         1.671118e+04           0.000000       0.000000  \n",
       "50%                         3.046682e+04           0.000000       0.000000  \n",
       "75%                         1.329136e+05           0.000000       0.000000  \n",
       "max                         1.313372e+08           1.000000       3.000000  "
      ]
     },
     "execution_count": 9,
     "metadata": {},
     "output_type": "execute_result"
    }
   ],
   "source": [
    "df.describe()"
   ]
  },
  {
   "cell_type": "code",
   "execution_count": 10,
   "id": "479db8e8",
   "metadata": {},
   "outputs": [
    {
     "data": {
      "image/png": "[encoded data removed]",
      "text/plain": [
       "<Figure size 720x360 with 1 Axes>"
      ]
     },
     "metadata": {
      "needs_background": "light"
     },
     "output_type": "display_data"
    }
   ],
   "source": [
    "plt.figure(figsize=(10,5))\n",
    "plt.boxplot(df['Age'],showmeans=True, vert=False, manage_ticks=False)\n",
    "plt.ylabel('Age')\n",
    "plt.title('Age')\n",
    "plt.show()"
   ]
  },
  {
   "cell_type": "code",
   "execution_count": 11,
   "id": "85a349f7",
   "metadata": {},
   "outputs": [
    {
     "data": {
      "image/png": "[encoded data removed]",
      "text/plain": [
       "<Figure size 720x360 with 1 Axes>"
      ]
     },
     "metadata": {
      "needs_background": "light"
     },
     "output_type": "display_data"
    }
   ],
   "source": [
    "plt.figure(figsize=(10,5))\n",
    "plt.boxplot(df['Height'],showmeans=True, vert=False, manage_ticks=False)\n",
    "plt.title('Height')\n",
    "plt.ylabel('Height')\n",
    "plt.show()"
   ]
  },
  {
   "cell_type": "code",
   "execution_count": 12,
   "id": "9fb801ff",
   "metadata": {},
   "outputs": [
    {
     "data": {
      "image/png": "[encoded data removed]",
      "text/plain": [
       "<Figure size 720x360 with 1 Axes>"
      ]
     },
     "metadata": {
      "needs_background": "light"
     },
     "output_type": "display_data"
    }
   ],
   "source": [
    "plt.figure(figsize=(10,5))\n",
    "plt.boxplot(df['Weight'],showmeans=True, vert=False, manage_ticks=False)\n",
    "plt.title('Weight')\n",
    "plt.ylabel('Weight')\n",
    "plt.show()"
   ]
  },
  {
   "cell_type": "code",
   "execution_count": 13,
   "id": "c85c7ae9",
   "metadata": {},
   "outputs": [
    {
     "data": {
      "image/png": "[encoded data removed]",
      "text/plain": [
       "<Figure size 432x288 with 1 Axes>"
      ]
     },
     "metadata": {
      "needs_background": "light"
     },
     "output_type": "display_data"
    }
   ],
   "source": [
    "#scatter plot\n",
    "plt.scatter(df['Age'],df['Weight'])\n",
    "plt.xlabel('Age')\n",
    "plt.ylabel('Weight')\n",
    "plt.title('Scatter plot of age and weight')\n",
    "plt.show()"
   ]
  },
  {
   "cell_type": "code",
   "execution_count": 14,
   "id": "c37ebc36",
   "metadata": {},
   "outputs": [
    {
     "data": {
      "image/png": "[encoded data removed]",
      "text/plain": [
       "<Figure size 432x288 with 1 Axes>"
      ]
     },
     "metadata": {
      "needs_background": "light"
     },
     "output_type": "display_data"
    }
   ],
   "source": [
    "plt.scatter(df['Height'],df['Age'])\n",
    "plt.xlabel('Height')\n",
    "plt.ylabel('Age')\n",
    "plt.title('Scatter plot of Age and Height')\n",
    "plt.show()"
   ]
  },
  {
   "cell_type": "code",
   "execution_count": 15,
   "id": "220473a0",
   "metadata": {},
   "outputs": [
    {
     "data": {
      "image/png": "[encoded data removed]",
      "text/plain": [
       "<Figure size 432x288 with 1 Axes>"
      ]
     },
     "metadata": {
      "needs_background": "light"
     },
     "output_type": "display_data"
    }
   ],
   "source": [
    "plt.scatter(df['Weight'],df['Height'])\n",
    "plt.xlabel('Weight')\n",
    "plt.ylabel('Height')\n",
    "plt.title(\"Scatter plot of Weight and Height\")\n",
    "plt.show()"
   ]
  },
  {
   "cell_type": "code",
   "execution_count": 16,
   "id": "4e4378a5",
   "metadata": {},
   "outputs": [],
   "source": [
    "import numpy as np"
   ]
  },
  {
   "cell_type": "code",
   "execution_count": 17,
   "id": "4a9daf69",
   "metadata": {},
   "outputs": [
    {
     "name": "stdout",
     "output_type": "stream",
     "text": [
      "21.0 28.0\n"
     ]
    }
   ],
   "source": [
    "Q1,Q3=np.percentile(df['Age'],[25,75])\n",
    "print(Q1,Q3)"
   ]
  },
  {
   "cell_type": "code",
   "execution_count": 18,
   "id": "eb440752",
   "metadata": {},
   "outputs": [
    {
     "name": "stdout",
     "output_type": "stream",
     "text": [
      "IQR: 7.0\n",
      "Lower fence: 10.5,Higher fence:  38.5\n"
     ]
    }
   ],
   "source": [
    "#to check the outlier calculate lf - hf\n",
    "IQR= Q3-Q1\n",
    "print(f'IQR: {IQR}')\n",
    "lower_fence= Q1 - 1.5 *(IQR)\n",
    "higher_fence= Q3 + 1.5 *(IQR)\n",
    "print(f'Lower fence: {lower_fence},Higher fence:  {higher_fence}')"
   ]
  },
  {
   "cell_type": "code",
   "execution_count": 19,
   "id": "0588a9df",
   "metadata": {},
   "outputs": [
    {
     "name": "stdout",
     "output_type": "stream",
     "text": [
      "60.0 79.0\n"
     ]
    }
   ],
   "source": [
    "Q1,Q3=np.percentile(df['Weight'],[25,75])\n",
    "print(Q1,Q3)"
   ]
  },
  {
   "cell_type": "code",
   "execution_count": 20,
   "id": "53824524",
   "metadata": {},
   "outputs": [
    {
     "name": "stdout",
     "output_type": "stream",
     "text": [
      "IQR: 19.0\n",
      "Lower fence: 31.5,Higher fence:  107.5\n"
     ]
    }
   ],
   "source": [
    "IQR= Q3-Q1\n",
    "print(f'IQR: {IQR}')\n",
    "lower_fence= Q1 - 1.5 *(IQR)\n",
    "higher_fence= Q3 + 1.5 *(IQR)\n",
    "print(f'Lower fence: {lower_fence},Higher fence:  {higher_fence}')"
   ]
  },
  {
   "cell_type": "code",
   "execution_count": 21,
   "id": "990fdea4",
   "metadata": {},
   "outputs": [
    {
     "name": "stdout",
     "output_type": "stream",
     "text": [
      "168.0 182.0\n"
     ]
    }
   ],
   "source": [
    "Q1,Q3=np.percentile(df['Height'],[25,75])\n",
    "print(Q1,Q3)"
   ]
  },
  {
   "cell_type": "code",
   "execution_count": 22,
   "id": "90bc2783",
   "metadata": {},
   "outputs": [
    {
     "name": "stdout",
     "output_type": "stream",
     "text": [
      "IQR: 14.0\n",
      "Lower fence: 147.0,Higher fence:  203.0\n"
     ]
    }
   ],
   "source": [
    "IQR= Q3-Q1\n",
    "print(f'IQR: {IQR}')\n",
    "lower_fence= Q1 - 1.5 *(IQR)\n",
    "higher_fence= Q3 + 1.5 *(IQR)\n",
    "print(f'Lower fence: {lower_fence},Higher fence:  {higher_fence}')"
   ]
  },
  {
   "cell_type": "code",
   "execution_count": 23,
   "id": "a3318abe",
   "metadata": {},
   "outputs": [],
   "source": [
    "#Variance"
   ]
  },
  {
   "cell_type": "code",
   "execution_count": 24,
   "id": "15ae48a8",
   "metadata": {},
   "outputs": [
    {
     "data": {
      "text/plain": [
       "29.943223660070846"
      ]
     },
     "execution_count": 24,
     "metadata": {},
     "output_type": "execute_result"
    }
   ],
   "source": [
    "np.var(df['Age'],axis=0)"
   ]
  },
  {
   "cell_type": "code",
   "execution_count": 25,
   "id": "aa4978e7",
   "metadata": {},
   "outputs": [
    {
     "data": {
      "text/plain": [
       "110.06299010161409"
      ]
     },
     "execution_count": 25,
     "metadata": {},
     "output_type": "execute_result"
    }
   ],
   "source": [
    "np.var(df['Height'],axis=0)"
   ]
  },
  {
   "cell_type": "code",
   "execution_count": 26,
   "id": "5349e768",
   "metadata": {},
   "outputs": [
    {
     "data": {
      "text/plain": [
       "203.4584675669348"
      ]
     },
     "execution_count": 26,
     "metadata": {},
     "output_type": "execute_result"
    }
   ],
   "source": [
    "np.var(df['Weight'],axis=0)"
   ]
  },
  {
   "cell_type": "code",
   "execution_count": 27,
   "id": "b8ace3bd",
   "metadata": {},
   "outputs": [],
   "source": [
    "#Standard Deviation"
   ]
  },
  {
   "cell_type": "code",
   "execution_count": 28,
   "id": "2ebd4b6b",
   "metadata": {},
   "outputs": [],
   "source": [
    "import math as m"
   ]
  },
  {
   "cell_type": "code",
   "execution_count": 29,
   "id": "96d405e4",
   "metadata": {},
   "outputs": [
    {
     "data": {
      "text/plain": [
       "5.4720401734701145"
      ]
     },
     "execution_count": 29,
     "metadata": {},
     "output_type": "execute_result"
    }
   ],
   "source": [
    "m.sqrt(29.943223660070846)"
   ]
  },
  {
   "cell_type": "code",
   "execution_count": 30,
   "id": "4e219674",
   "metadata": {},
   "outputs": [
    {
     "data": {
      "text/plain": [
       "10.491090987195474"
      ]
     },
     "execution_count": 30,
     "metadata": {},
     "output_type": "execute_result"
    }
   ],
   "source": [
    "m.sqrt(110.06299010161409)"
   ]
  },
  {
   "cell_type": "code",
   "execution_count": 31,
   "id": "205c58f1",
   "metadata": {},
   "outputs": [
    {
     "data": {
      "text/plain": [
       "14.263886832379693"
      ]
     },
     "execution_count": 31,
     "metadata": {},
     "output_type": "execute_result"
    }
   ],
   "source": [
    "m.sqrt(203.4584675669348)"
   ]
  },
  {
   "cell_type": "code",
   "execution_count": 32,
   "id": "b1dd637d",
   "metadata": {},
   "outputs": [
    {
     "data": {
      "image/png": "[encoded data removed]",
      "text/plain": [
       "<Figure size 720x360 with 1 Axes>"
      ]
     },
     "metadata": {
      "needs_background": "light"
     },
     "output_type": "display_data"
    }
   ],
   "source": [
    "plt.figure(figsize=(10,5))\n",
    "plt.hist(df['Age'], label = 'AGE', color = 'red',bins = 12)\n",
    "plt.xlabel('Age')\n",
    "plt.ylabel('Frequency')\n",
    "plt.show()"
   ]
  },
  {
   "cell_type": "code",
   "execution_count": 42,
   "id": "4d23fdd8",
   "metadata": {},
   "outputs": [
    {
     "data": {
      "image/png": "[encoded data removed]",
      "text/plain": [
       "<Figure size 720x360 with 1 Axes>"
      ]
     },
     "metadata": {},
     "output_type": "display_data"
    }
   ],
   "source": [
    "plt.figure(figsize=(10,5))\n",
    "plt.hist(df['Age'], label = 'AGE', color = 'red',bins =8)\n",
    "plt.hist(df['Height'], label = 'Height', color = 'green',bins = 12)\n",
    "plt.xlabel('Age' and 'Height')\n",
    "plt.ylabel('Frequency')\n",
    "plt.legend()\n",
    "plt.show()"
   ]
  },
  {
   "cell_type": "code",
   "execution_count": 34,
   "id": "bbd11fb5",
   "metadata": {},
   "outputs": [
    {
     "data": {
      "image/png": "[encoded data removed]",
      "text/plain": [
       "<Figure size 432x288 with 1 Axes>"
      ]
     },
     "metadata": {},
     "output_type": "display_data"
    }
   ],
   "source": [
    "from matplotlib import style\n",
    "style.use('ggplot')\n",
    "plt.plot(df['Age'])\n",
    "plt.show()"
   ]
  },
  {
   "cell_type": "code",
   "execution_count": 35,
   "id": "d1a6a7bd",
   "metadata": {},
   "outputs": [
    {
     "data": {
      "image/png": "[encoded data removed]",
      "text/plain": [
       "<Figure size 432x288 with 1 Axes>"
      ]
     },
     "metadata": {},
     "output_type": "display_data"
    }
   ],
   "source": [
    "style.use('ggplot')\n",
    "plt.plot(df['Height'])\n",
    "plt.show()"
   ]
  },
  {
   "cell_type": "code",
   "execution_count": 36,
   "id": "3efaa02e",
   "metadata": {},
   "outputs": [
    {
     "data": {
      "image/png": "[encoded data removed]",
      "text/plain": [
       "<Figure size 432x288 with 1 Axes>"
      ]
     },
     "metadata": {},
     "output_type": "display_data"
    }
   ],
   "source": [
    "style.use('ggplot')\n",
    "plt.plot(df['Weight'])\n",
    "plt.show()"
   ]
  },
  {
   "cell_type": "code",
   "execution_count": 37,
   "id": "8fa82f24",
   "metadata": {},
   "outputs": [
    {
     "name": "stdout",
     "output_type": "stream",
     "text": [
      "<class 'pandas.core.frame.DataFrame'>\n",
      "RangeIndex: 202616 entries, 0 to 202615\n",
      "Data columns (total 16 columns):\n",
      " #   Column                             Non-Null Count   Dtype  \n",
      "---  ------                             --------------   -----  \n",
      " 0   Name                               202616 non-null  object \n",
      " 1   Sex                                202616 non-null  object \n",
      " 2   Age                                202616 non-null  float64\n",
      " 3   Height                             202616 non-null  float64\n",
      " 4   Weight                             202616 non-null  float64\n",
      " 5   Team                               202616 non-null  object \n",
      " 6   Year                               202616 non-null  int64  \n",
      " 7   Season                             202616 non-null  object \n",
      " 8   Host_City                          202616 non-null  object \n",
      " 9   Host_Country                       202616 non-null  object \n",
      " 10  Sport                              202616 non-null  object \n",
      " 11  Event                              202616 non-null  object \n",
      " 12  GDP_Per_Capita_Constant_LCU_Value  202616 non-null  float64\n",
      " 13  Representing_Host                  202616 non-null  int64  \n",
      " 14  Avg_Temp                           202616 non-null  object \n",
      " 15  Medal                              202616 non-null  int64  \n",
      "dtypes: float64(4), int64(3), object(9)\n",
      "memory usage: 24.7+ MB\n"
     ]
    }
   ],
   "source": [
    "df.info()"
   ]
  },
  {
   "cell_type": "code",
   "execution_count": null,
   "id": "95eeaf04",
   "metadata": {},
   "outputs": [],
   "source": []
  }
 ],
 "metadata": {
  "kernelspec": {
   "display_name": "Python 3 (ipykernel)",
   "language": "python",
   "name": "python3"
  },
  "language_info": {
   "codemirror_mode": {
    "name": "ipython",
    "version": 3
   },
   "file_extension": ".py",
   "mimetype": "text/x-python",
   "name": "python",
   "nbconvert_exporter": "python",
   "pygments_lexer": "ipython3",
   "version": "3.11.4"
  }
 },
 "nbformat": 4,
 "nbformat_minor": 5
}
